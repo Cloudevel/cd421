{
 "cells": [
  {
   "cell_type": "markdown",
   "metadata": {},
   "source": [
    "<a href=\"https://cloudevel.com\"> <img src=\"img/cloudevel.png\" width=\"500px\"></a>"
   ]
  },
  {
   "cell_type": "markdown",
   "metadata": {},
   "source": [
    "# GithHub."
   ]
  },
  {
   "cell_type": "markdown",
   "metadata": {},
   "source": [
    "*GitHub* es un portal que contiene múltiples servicios y herramientas para personas, organizaciones y grupos de trabajo que abarcan diversos aspectos del ciclo de vida de desarrollo de software (*SDLC*).\n",
    "\n",
    "<img src=\"img/01/sdlc.png\" width=\"50%\">\n",
    "\n",
    "El componente base a partir del cual se despenden la mayoría de las herrmaientas y servicios de *GitHub* son los repositorios remotos de *Git*."
   ]
  },
  {
   "cell_type": "markdown",
   "metadata": {},
   "source": [
    "## Tipos de cuentas de *GitHub*."
   ]
  },
  {
   "cell_type": "markdown",
   "metadata": {},
   "source": [
    "*GitHub* basa su negocio en una estrategia *freemium*, en la que ofrece una gran cantidad de servicios que pueden ser gratuitos para personas, organizaciones no lucrativas o empresas hasta ciertos límites.\n",
    "\n",
    "https://docs.github.com/es/get-started/learning-about-github/githubs-products"
   ]
  },
  {
   "cell_type": "markdown",
   "metadata": {},
   "source": [
    "### Cuentas personales.\n",
    "\n",
    "* [*GitHub Free* para personas](https://docs.github.com/es/get-started/learning-about-github/githubs-products#github-free-para-cuentas-personales).\n",
    "* [*GitHub Pro*](https://docs.github.com/es/get-started/learning-about-github/githubs-products#github-pro).\n"
   ]
  },
  {
   "cell_type": "markdown",
   "metadata": {},
   "source": [
    "### Cuentas para organizaciones.\n",
    "\n",
    "* [*Github Free* para organizaciones](https://docs.github.com/es/get-started/learning-about-github/githubs-products#github-free-para-organizaciones).\n",
    "* [*Github Team*](https://docs.github.com/es/get-started/learning-about-github/githubs-products#github-team).\n",
    "* [*GitHub Enterprise*](https://docs.github.com/es/get-started/learning-about-github/githubs-products#github-enterprise).\n",
    "\n",
    "En le caso de los productos para organizaciones y empresas, los precios se calculan [con base en el número de usuarios]https://docs.github.com/es/enterprise-cloud@latest/billing/managing-billing-for-your-github-account/about-per-user-pricing)."
   ]
  },
  {
   "cell_type": "markdown",
   "metadata": {},
   "source": [
    "## Precios y límites de servicios gratuitos.\n",
    "\n",
    "* https://github.com/pricing/calculator"
   ]
  },
  {
   "cell_type": "markdown",
   "metadata": {},
   "source": [
    "En el siguiente vínculo es posible consultar los planes de suscripción de *Github*.\n",
    "\n",
    "* https://github.com/pricing#compare-features\n",
    "\n",
    "Algunos servicios se cobran adicionalmente a los planes anteriormente mencionados, como es el caso de:\n",
    "\n",
    "* *GitHub Copilot*.\n",
    "* *Codespaces*.\n",
    "* *Large File Storage*.\n",
    "* *GitHub Advanced Security*.\n",
    "\n",
    "Además, *GitHub* tiene opciones de apoyo a:\n",
    "\n",
    "* Organizaciones sin fines de lucro.\n",
    "* Estudiantes y profesores.\n",
    "* Comunidades de código abierto."
   ]
  },
  {
   "cell_type": "markdown",
   "metadata": {},
   "source": [
    "<p style=\"text-align: center\"><a rel=\"license\" href=\"http://creativecommons.org/licenses/by/4.0/\"><img alt=\"Licencia Creative Commons\" style=\"border-width:0\" src=\"https://i.creativecommons.org/l/by/4.0/80x15.png\" /></a><br />Esta obra está bajo una <a rel=\"license\" href=\"http://creativecommons.org/licenses/by/4.0/\">Licencia Creative Commons Atribución 4.0 Internacional</a>.</p>\n",
    "<p style=\"text-align: center\">&copy; José Luis Chiquete Valdivieso. 2023.</p>"
   ]
  }
 ],
 "metadata": {
  "kernelspec": {
   "display_name": "Bash",
   "language": "bash",
   "name": "bash"
  },
  "language_info": {
   "codemirror_mode": "shell",
   "file_extension": ".sh",
   "mimetype": "text/x-sh",
   "name": "bash"
  }
 },
 "nbformat": 4,
 "nbformat_minor": 2
}
