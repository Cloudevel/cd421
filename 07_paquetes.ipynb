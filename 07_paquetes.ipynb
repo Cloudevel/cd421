{
 "cells": [
  {
   "cell_type": "markdown",
   "metadata": {},
   "source": [
    "# *Packages*."
   ]
  },
  {
   "cell_type": "markdown",
   "metadata": {},
   "source": [
    "*Github* ofrece un repositorio de artefactos, mediante el servicio [*Packages*](https://github.com/features/packages).\n",
    "\n",
    "*GitHub Packages* es una plataforma para hospedar y administrar paquetes, incluidos contenedores y otras dependencias. *GitHub Packages* permite acceder al código fuente y a los paquetes en un solo lugar para proporcionar una administración de permisos y facturación integradas, de tal forma que es posible centralizar el ciclo de vida de desarrollo de software en *GitHub*.\n",
    "\n",
    "*GitHub Packages* puede ser integrado con: \n",
    "* Las *API* de *GitHub*. \n",
    "* *GitHub Actions*.\n",
    "* *Webhooks*.\n",
    "\n",
    "*GitHub Packages* permite gestionar diversos paquetes, tales como:\n",
    "* *npm*.\n",
    "* *RubyGems*.\n",
    "* *Apache Maven*.\n",
    "* *Gradle*.\n",
    "* *Docker*.\n",
    "* *NuGet*. \n",
    "\n",
    "El *registry* de contenedores de *GitHub* es compatible con imágenes de *Docker* y *OCI*.\n",
    "\n",
    "* https://docs.github.com/en/packages/learn-github-packages/introduction-to-github-packages"
   ]
  },
  {
   "cell_type": "markdown",
   "metadata": {},
   "source": [
    "<p style=\"text-align: center\"><a rel=\"license\" href=\"http://creativecommons.org/licenses/by/4.0/\"><img alt=\"Licencia Creative Commons\" style=\"border-width:0\" src=\"https://i.creativecommons.org/l/by/4.0/80x15.png\" /></a><br />Esta obra está bajo una <a rel=\"license\" href=\"http://creativecommons.org/licenses/by/4.0/\">Licencia Creative Commons Atribución 4.0 Internacional</a>.</p>\n",
    "<p style=\"text-align: center\">&copy; José Luis Chiquete Valdivieso. 2023.</p>"
   ]
  }
 ],
 "metadata": {
  "kernelspec": {
   "display_name": "Bash",
   "language": "bash",
   "name": "bash"
  },
  "language_info": {
   "codemirror_mode": "shell",
   "file_extension": ".sh",
   "mimetype": "text/x-sh",
   "name": "bash"
  }
 },
 "nbformat": 4,
 "nbformat_minor": 2
}
