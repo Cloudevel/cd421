{
 "cells": [
  {
   "cell_type": "markdown",
   "metadata": {},
   "source": [
    "# GithHub."
   ]
  },
  {
   "cell_type": "markdown",
   "metadata": {},
   "source": [
    "* Repositorios.\n",
    "  * Estructura básica.\n",
    "  * Permisos.\n",
    "  * Colaboradors.\n",
    "  * Protección de ramas.\n",
    "  * Pull requests.\n",
    "  * Issues.\n",
    "  * Discusiones.\n",
    "  * Seguridad\n",
    "    * Dependabot\n",
    "    * Análisis de código\n",
    "    * Buśqueda de secretos\n",
    "  * Mejores prácticas.\n",
    "  * Code Owners https://docs.github.com/en/repositories/managing-your-repositorys-settings-and-features/customizing-your-repository/about-code-owners\n",
    "  \n",
    "* Gist\n",
    "* Pages\n",
    "* Projects\n",
    "* Secretos y variables\n",
    "* Entornos\n",
    "* Packages\n",
    "* gh\n",
    "* Codespaces\n",
    "* Copilot\n",
    "* "
   ]
  },
  {
   "cell_type": "markdown",
   "metadata": {},
   "source": [
    "<p style=\"text-align: center\"><a rel=\"license\" href=\"http://creativecommons.org/licenses/by/4.0/\"><img alt=\"Licencia Creative Commons\" style=\"border-width:0\" src=\"https://i.creativecommons.org/l/by/4.0/80x15.png\" /></a><br />Esta obra está bajo una <a rel=\"license\" href=\"http://creativecommons.org/licenses/by/4.0/\">Licencia Creative Commons Atribución 4.0 Internacional</a>.</p>\n",
    "<p style=\"text-align: center\">&copy; José Luis Chiquete Valdivieso. 2023.</p>"
   ]
  }
 ],
 "metadata": {
  "kernelspec": {
   "display_name": "Bash",
   "language": "bash",
   "name": "bash"
  },
  "language_info": {
   "codemirror_mode": "shell",
   "file_extension": ".sh",
   "mimetype": "text/x-sh",
   "name": "bash"
  }
 },
 "nbformat": 4,
 "nbformat_minor": 2
}
